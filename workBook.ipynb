{
 "cells": [
  {
   "cell_type": "code",
   "id": "initial_id",
   "metadata": {
    "collapsed": true,
    "ExecuteTime": {
     "end_time": "2024-10-16T10:25:39.134166Z",
     "start_time": "2024-10-16T10:25:37.265673Z"
    }
   },
   "source": [
    "import requests\n",
    "from bs4 import BeautifulSoup\n",
    "import pandas as pd\n",
    "import time"
   ],
   "outputs": [],
   "execution_count": 1
  },
  {
   "metadata": {
    "ExecuteTime": {
     "end_time": "2024-10-16T10:25:39.662555Z",
     "start_time": "2024-10-16T10:25:39.646245Z"
    }
   },
   "cell_type": "code",
   "source": [
    "# Define a list of dictionaries with company and website data\n",
    "websites = [\n",
    "    {\"company\": \"Nestle\", \"url\": \"https://www.nestle.com\"},\n",
    "    {\"company\": \"Dr. Reddy's Laboratories\", \"url\": \"https://www.drreddys.com\"},\n",
    "    {\"company\": \"Coca Cola\", \"url\": \"https://www.coca-colacompany.com\"},\n",
    "    {\"company\": \"Pfizer\", \"url\": \"https://www.pfizer.com\"},\n",
    "    {\"company\": \"PepsiCo\", \"url\": \"https://www.pepsico.com\"},\n",
    "    {\"company\": \"Johnson & Johnson\", \"url\": \"https://www.jnj.com\"},\n",
    "    {\"company\": \"Danone\", \"url\": \"https://www.danone.com\"},\n",
    "    {\"company\": \"Bayer\", \"url\": \"https://www.bayer.com\"},\n",
    "    {\"company\": \"General Mills\", \"url\": \"https://www.generalmills.com\"},\n",
    "    {\"company\": \"GlaxoSmithKline (GSK)\", \"url\": \"https://www.gsk.com\"},\n",
    "    {\"company\": \"Kellogg's\", \"url\": \"https://www.kelloggs.com\"},\n",
    "    {\"company\": \"Merck & Co.\", \"url\": \"https://www.merck.com\"},\n",
    "    {\"company\": \"Unilever\", \"url\": \"https://www.unilever.com\"},\n",
    "    {\"company\": \"Roche\", \"url\": \"https://www.roche.com\"},\n",
    "    {\"company\": \"Nestle Waters\", \"url\": \"https://www.nestlewaters.com\"},\n",
    "    {\"company\": \"Sanofi\", \"url\": \"https://www.sanofi.com\"},\n",
    "    {\"company\": \"Mondelez International\", \"url\": \"https://www.mondelezinternational.com\"},\n",
    "    {\"company\": \"Novartis\", \"url\": \"https://www.novartis.com\"},\n",
    "    {\"company\": \"Kraft Heinz\", \"url\": \"https://www.kraftheinzcompany.com\"},\n",
    "    {\"company\": \"Eli Lilly and Company\", \"url\": \"https://www.lilly.com\"},\n",
    "    {\"company\": \"Tyson Foods\", \"url\": \"https://www.tysonfoods.com\"},\n",
    "    {\"company\": \"Teva Pharmaceuticals\", \"url\": \"https://www.tevapharm.com\"},\n",
    "    {\"company\": \"Mars, Incorporated\", \"url\": \"https://www.mars.com\"},\n",
    "    {\"company\": \"AbbVie\", \"url\": \"https://www.abbvie.com\"},\n",
    "    {\"company\": \"Campbell Soup Company\", \"url\": \"https://www.campbellsoupcompany.com\"},\n",
    "    {\"company\": \"Amgen\", \"url\": \"https://www.amgen.com\"},\n",
    "    {\"company\": \"Conagra Brands\", \"url\": \"https://www.conagrabrands.com\"},\n",
    "    {\"company\": \"AstraZeneca\", \"url\": \"https://www.astrazeneca.com\"},\n",
    "    {\"company\": \"Molson Coors\", \"url\": \"https://www.molsoncoors.com\"},\n",
    "    {\"company\": \"Boehringer Ingelheim\", \"url\": \"https://www.boehringeringelheim.com\"},\n",
    "    {\"company\": \"AB InBev\", \"url\": \"https://www.abinbev.com\"},\n",
    "    {\"company\": \"BASF\", \"url\": \"https://www.basf.com\"},\n",
    "    {\"company\": \"Diageo\", \"url\": \"https://www.diageo.com\"},\n",
    "    {\"company\": \"Procter & Gamble (P&G)\", \"url\": \"https://www.pg.com\"},\n",
    "    {\"company\": \"Heineken\", \"url\": \"https://www.theheinekencompany.com\"},\n",
    "    {\"company\": \"Medtronic\", \"url\": \"https://www.medtronic.com\"},\n",
    "    {\"company\": \"McKesson\", \"url\": \"https://www.mckesson.com\"},\n",
    "    {\"company\": \"AmerisourceBergen\", \"url\": \"https://www.amerisourcebergen.com\"},\n",
    "    {\"company\": \"Cardinal Health\", \"url\": \"https://www.cardinalhealth.com\"},\n",
    "    {\"company\": \"Medline Industries\", \"url\": \"https://www.medline.com\"}\n",
    "]\n"
   ],
   "id": "e9b722c343f8668a",
   "outputs": [],
   "execution_count": 2
  },
  {
   "metadata": {
    "ExecuteTime": {
     "end_time": "2024-10-16T10:25:40.546652Z",
     "start_time": "2024-10-16T10:25:40.536010Z"
    }
   },
   "cell_type": "code",
   "source": [
    "# Validate URLs\n",
    "valid_websites = []\n",
    "for site in websites:\n",
    "    if 'url' in site and isinstance(site['url'], str) and site['url'].startswith('http'):\n",
    "        print(f\"Valid URL: {site['url']}\")\n",
    "        valid_websites.append(site)\n",
    "    else:\n",
    "        print(f\"Invalid URL: {site['url']}\")"
   ],
   "id": "a235fdcd6b3db61b",
   "outputs": [
    {
     "name": "stdout",
     "output_type": "stream",
     "text": [
      "Valid URL: https://www.nestle.com\n",
      "Valid URL: https://www.drreddys.com\n",
      "Valid URL: https://www.coca-colacompany.com\n",
      "Valid URL: https://www.pfizer.com\n",
      "Valid URL: https://www.pepsico.com\n",
      "Valid URL: https://www.jnj.com\n",
      "Valid URL: https://www.danone.com\n",
      "Valid URL: https://www.bayer.com\n",
      "Valid URL: https://www.generalmills.com\n",
      "Valid URL: https://www.gsk.com\n",
      "Valid URL: https://www.kelloggs.com\n",
      "Valid URL: https://www.merck.com\n",
      "Valid URL: https://www.unilever.com\n",
      "Valid URL: https://www.roche.com\n",
      "Valid URL: https://www.nestlewaters.com\n",
      "Valid URL: https://www.sanofi.com\n",
      "Valid URL: https://www.mondelezinternational.com\n",
      "Valid URL: https://www.novartis.com\n",
      "Valid URL: https://www.kraftheinzcompany.com\n",
      "Valid URL: https://www.lilly.com\n",
      "Valid URL: https://www.tysonfoods.com\n",
      "Valid URL: https://www.tevapharm.com\n",
      "Valid URL: https://www.mars.com\n",
      "Valid URL: https://www.abbvie.com\n",
      "Valid URL: https://www.campbellsoupcompany.com\n",
      "Valid URL: https://www.amgen.com\n",
      "Valid URL: https://www.conagrabrands.com\n",
      "Valid URL: https://www.astrazeneca.com\n",
      "Valid URL: https://www.molsoncoors.com\n",
      "Valid URL: https://www.boehringeringelheim.com\n",
      "Valid URL: https://www.abinbev.com\n",
      "Valid URL: https://www.basf.com\n",
      "Valid URL: https://www.diageo.com\n",
      "Valid URL: https://www.pg.com\n",
      "Valid URL: https://www.theheinekencompany.com\n",
      "Valid URL: https://www.medtronic.com\n",
      "Valid URL: https://www.mckesson.com\n",
      "Valid URL: https://www.amerisourcebergen.com\n",
      "Valid URL: https://www.cardinalhealth.com\n",
      "Valid URL: https://www.medline.com\n"
     ]
    }
   ],
   "execution_count": 3
  },
  {
   "metadata": {
    "ExecuteTime": {
     "end_time": "2024-10-16T10:25:41.647831Z",
     "start_time": "2024-10-16T10:25:41.636835Z"
    }
   },
   "cell_type": "code",
   "source": [
    "def scrape_website(url):\n",
    "    headers = {\n",
    "        'User-Agent': 'Mozilla/5.0 (Windows NT 10.0; Win64; x64) AppleWebKit/537.36 (KHTML, like Gecko) Chrome/91.0.4472.124 Safari/537.36'\n",
    "    }\n",
    "    try:\n",
    "        response = requests.get(url, headers=headers)\n",
    "        soup = BeautifulSoup(response.content, 'html.parser')\n",
    "        \n",
    "        # Example extraction of text from the website\n",
    "        text = soup.get_text(separator=' ', strip=True).lower()\n",
    "        \n",
    "        # Define keywords to search for\n",
    "        fnb_keywords = ['beverage', 'cereal', 'milk', 'bakery', 'food', 'snacks']\n",
    "        health_keywords = ['gut health', 'women\\'s health', 'cognitive health', 'mental wellness', 'nutrition', 'supplements', 'well-being']\n",
    "        manufacturer_keywords = ['plant', 'production', 'capacity', 'certifications', 'factory', 'processing']\n",
    "\n",
    "        # Check if any keywords are present\n",
    "        is_fnb = any(keyword in text for keyword in fnb_keywords)\n",
    "        is_health_related = any(keyword in text for keyword in health_keywords)\n",
    "        is_manufacturer = any(keyword in text for keyword in manufacturer_keywords)\n",
    "        \n",
    "        # Try extracting the title of the page as an example\n",
    "        title = soup.title.string if soup.title else \"No title found\"\n",
    "        \n",
    "        # Return the result with additional information\n",
    "        return {\n",
    "            \"url\": url,\n",
    "            \"title\": title,\n",
    "            \"is_fnb\": is_fnb,\n",
    "            \"is_health_related\": is_health_related,\n",
    "            \"is_manufacturer\": is_manufacturer\n",
    "        }\n",
    "    except Exception as e:\n",
    "        print(f\"Error scraping {url}: {e}\")\n",
    "        return None"
   ],
   "id": "c516e4fdfca8787d",
   "outputs": [],
   "execution_count": 4
  },
  {
   "metadata": {
    "ExecuteTime": {
     "end_time": "2024-10-16T10:28:44.022372Z",
     "start_time": "2024-10-16T10:25:42.578473Z"
    }
   },
   "cell_type": "code",
   "source": [
    "data = []\n",
    "\n",
    "for site in valid_websites:\n",
    "    result = scrape_website(site[\"url\"])\n",
    "    if result:\n",
    "        data.append({\n",
    "            \"Company\": site[\"company\"],\n",
    "            \"Website\": site[\"url\"],\n",
    "            \"Is_FNB\": result[\"is_fnb\"],\n",
    "            \"Is_Health_Related\": result[\"is_health_related\"],\n",
    "            \"Is_Manufacturer\": result[\"is_manufacturer\"]\n",
    "        })\n",
    "\n",
    "# Create a DataFrame from the main scraped data\n",
    "df_main = pd.DataFrame(data)\n",
    "\n",
    "# Save the main DataFrame to a CSV file\n",
    "df_main.to_csv('companies_data.csv', index=False)\n",
    "\n",
    "# Function to retry scraping\n",
    "def retry_scrape(url, retries=3, delay=5):\n",
    "    for attempt in range(retries):\n",
    "        result = scrape_website(url)\n",
    "        if result:\n",
    "            return result\n",
    "        print(f\"Retrying {url} ({attempt + 1}/{retries})...\")\n",
    "        time.sleep(delay)\n",
    "    return None\n",
    "\n",
    "# Only scrape the URLs that had errors\n",
    "additional_urls = [\n",
    "    \"https://www.kelloggs.com\",\n",
    "    \"https://www.cardinalhealth.com\"\n",
    "]\n",
    "\n",
    "results = []\n",
    "\n",
    "for url in additional_urls:\n",
    "    result = retry_scrape(url)\n",
    "    if result:\n",
    "        results.append(result)\n",
    "    time.sleep(2)  # Sleep for 2 seconds between requests\n"
   ],
   "id": "b064716bdaf9bc34",
   "outputs": [
    {
     "name": "stdout",
     "output_type": "stream",
     "text": [
      "Error scraping https://www.kelloggs.com: ('Connection aborted.', RemoteDisconnected('Remote end closed connection without response'))\n",
      "Error scraping https://www.kelloggs.com: ('Connection aborted.', RemoteDisconnected('Remote end closed connection without response'))\n",
      "Retrying https://www.kelloggs.com (1/3)...\n",
      "Error scraping https://www.kelloggs.com: ('Connection aborted.', RemoteDisconnected('Remote end closed connection without response'))\n",
      "Retrying https://www.kelloggs.com (2/3)...\n",
      "Error scraping https://www.kelloggs.com: ('Connection aborted.', RemoteDisconnected('Remote end closed connection without response'))\n",
      "Retrying https://www.kelloggs.com (3/3)...\n"
     ]
    }
   ],
   "execution_count": 5
  },
  {
   "metadata": {
    "ExecuteTime": {
     "end_time": "2024-10-16T10:36:26.204602Z",
     "start_time": "2024-10-16T10:36:25.906806Z"
    }
   },
   "cell_type": "code",
   "source": [
    "# Save the results to a CSV file if there are any\n",
    "if results:\n",
    "    df_additional = pd.DataFrame(results)\n",
    "    df_additional.to_csv(\"additional_scraped_data.csv\", index=False)\n",
    "else:\n",
    "    print(\"No data scraped for the specified URLs.\")\n",
    "\n",
    "# Load the previously scraped data\n",
    "df_main = pd.read_csv(\"companies_data.csv\")\n",
    "\n",
    "# Load the additional scraped data if it exists\n",
    "try:\n",
    "    df_additional = pd.read_csv(\"additional_scraped_data.csv\")\n",
    "    # Combine the two DataFrames\n",
    "    df_combined = pd.concat([df_main, df_additional], ignore_index=True)\n",
    "except FileNotFoundError:\n",
    "    print(\"No additional data to combine.\")\n",
    "\n",
    "# Save the combined data to a new CSV file\n",
    "df_combined.to_csv(\"combined_companies_data.csv\", index=False)\n"
   ],
   "id": "5413469cf8093b70",
   "outputs": [],
   "execution_count": 8
  },
  {
   "metadata": {
    "ExecuteTime": {
     "end_time": "2024-10-16T20:33:15.337402Z",
     "start_time": "2024-10-16T20:33:14.918837Z"
    }
   },
   "cell_type": "code",
   "source": [
    "scap_data = pd.read_csv(\"combined_companies_data.csv\")\n",
    "scap_data.head()"
   ],
   "id": "5c675fdb39f75c0d",
   "outputs": [
    {
     "data": {
      "text/plain": [
       "                    Company                           Website  Is_FNB  \\\n",
       "0                    Nestle            https://www.nestle.com   False   \n",
       "1  Dr. Reddy's Laboratories          https://www.drreddys.com   False   \n",
       "2                 Coca Cola  https://www.coca-colacompany.com    True   \n",
       "3                    Pfizer            https://www.pfizer.com   False   \n",
       "4                   PepsiCo           https://www.pepsico.com    True   \n",
       "\n",
       "   Is_Health_Related  Is_Manufacturer  \n",
       "0              False            False  \n",
       "1              False            False  \n",
       "2              False            False  \n",
       "3              False            False  \n",
       "4               True             True  "
      ],
      "text/html": [
       "<div>\n",
       "<style scoped>\n",
       "    .dataframe tbody tr th:only-of-type {\n",
       "        vertical-align: middle;\n",
       "    }\n",
       "\n",
       "    .dataframe tbody tr th {\n",
       "        vertical-align: top;\n",
       "    }\n",
       "\n",
       "    .dataframe thead th {\n",
       "        text-align: right;\n",
       "    }\n",
       "</style>\n",
       "<table border=\"1\" class=\"dataframe\">\n",
       "  <thead>\n",
       "    <tr style=\"text-align: right;\">\n",
       "      <th></th>\n",
       "      <th>Company</th>\n",
       "      <th>Website</th>\n",
       "      <th>Is_FNB</th>\n",
       "      <th>Is_Health_Related</th>\n",
       "      <th>Is_Manufacturer</th>\n",
       "    </tr>\n",
       "  </thead>\n",
       "  <tbody>\n",
       "    <tr>\n",
       "      <th>0</th>\n",
       "      <td>Nestle</td>\n",
       "      <td>https://www.nestle.com</td>\n",
       "      <td>False</td>\n",
       "      <td>False</td>\n",
       "      <td>False</td>\n",
       "    </tr>\n",
       "    <tr>\n",
       "      <th>1</th>\n",
       "      <td>Dr. Reddy's Laboratories</td>\n",
       "      <td>https://www.drreddys.com</td>\n",
       "      <td>False</td>\n",
       "      <td>False</td>\n",
       "      <td>False</td>\n",
       "    </tr>\n",
       "    <tr>\n",
       "      <th>2</th>\n",
       "      <td>Coca Cola</td>\n",
       "      <td>https://www.coca-colacompany.com</td>\n",
       "      <td>True</td>\n",
       "      <td>False</td>\n",
       "      <td>False</td>\n",
       "    </tr>\n",
       "    <tr>\n",
       "      <th>3</th>\n",
       "      <td>Pfizer</td>\n",
       "      <td>https://www.pfizer.com</td>\n",
       "      <td>False</td>\n",
       "      <td>False</td>\n",
       "      <td>False</td>\n",
       "    </tr>\n",
       "    <tr>\n",
       "      <th>4</th>\n",
       "      <td>PepsiCo</td>\n",
       "      <td>https://www.pepsico.com</td>\n",
       "      <td>True</td>\n",
       "      <td>True</td>\n",
       "      <td>True</td>\n",
       "    </tr>\n",
       "  </tbody>\n",
       "</table>\n",
       "</div>"
      ]
     },
     "execution_count": 9,
     "metadata": {},
     "output_type": "execute_result"
    }
   ],
   "execution_count": 9
  }
 ],
 "metadata": {
  "kernelspec": {
   "display_name": "Python 3",
   "language": "python",
   "name": "python3"
  },
  "language_info": {
   "codemirror_mode": {
    "name": "ipython",
    "version": 2
   },
   "file_extension": ".py",
   "mimetype": "text/x-python",
   "name": "python",
   "nbconvert_exporter": "python",
   "pygments_lexer": "ipython2",
   "version": "2.7.6"
  }
 },
 "nbformat": 4,
 "nbformat_minor": 5
}
